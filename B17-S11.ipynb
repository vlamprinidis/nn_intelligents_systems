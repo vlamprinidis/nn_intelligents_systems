{
 "cells": [
  {
   "cell_type": "markdown",
   "metadata": {
    "colab_type": "text",
    "id": "vSaFCUMDZUSq"
   },
   "source": [
    "### Νευρωνικά Δίκτυα ΣΗΜΜΥ 2018-2019\n",
    "\n",
    "### Ομάδα Β17\n"
   ]
  },
  {
   "cell_type": "markdown",
   "metadata": {
    "colab_type": "text",
    "id": "Ui1P9OM1ZUSv"
   },
   "source": [
    "## Στοιχεία ομάδας\n",
    "### Λαμπρινίδης-Λέντελ Βλαντισλάβ, 03114054\n",
    "\n",
    "### Μαρμάνης Ιάσων, 03114088"
   ]
  },
  {
   "cell_type": "markdown",
   "metadata": {
    "colab_type": "text",
    "id": "21iujuVNZUSz"
   },
   "source": [
    "## Εισαγωγή του dataset"
   ]
  },
  {
   "cell_type": "markdown",
   "metadata": {
    "colab_type": "text",
    "id": "BsVbjdfgZUS5"
   },
   "source": [
    "1. Το dataset αποτελείται από δεδομένα που έχουν προκύψει από φωτογραφίες του τραχήλου μαζί με την εκτίμηση για ύπαρξη καρκίνου στην περιοχή. Υπάρχουν δεδομένα για 3 modalities της κολποσκόπησης : green, hinselmann και schiller. "
   ]
  },
  {
   "cell_type": "code",
   "execution_count": 0,
   "metadata": {
    "colab": {},
    "colab_type": "code",
    "id": "28WjnuXSZUS9"
   },
   "outputs": [],
   "source": [
    "import pandas as pd\n",
    "import numpy as np"
   ]
  },
  {
   "cell_type": "code",
   "execution_count": 3,
   "metadata": {
    "colab": {
     "base_uri": "https://localhost:8080/",
     "height": 6839
    },
    "colab_type": "code",
    "executionInfo": {
     "elapsed": 41070,
     "status": "ok",
     "timestamp": 1544397078026,
     "user": {
      "displayName": "jason marmanis",
      "photoUrl": "https://lh3.googleusercontent.com/-C_tDDyCv7tM/AAAAAAAAAAI/AAAAAAAAAMg/uOBKlyQq9Jo/s64/photo.jpg",
      "userId": "00194887618076345353"
     },
     "user_tz": -120
    },
    "id": "1MxEBxLPZUTR",
    "outputId": "5a140bb8-479d-4b1d-f06a-79cf55ce60a6",
    "scrolled": true
   },
   "outputs": [
    {
     "name": "stdout",
     "output_type": "stream",
     "text": [
      "     cervix_area   os_area  walls_area  speculum_area  artifacts_area  \\\n",
      "0       0.344647  0.003080    0.047522       0.288216        0.178585   \n",
      "1       0.165329  0.000000    0.048236       0.504736        0.502783   \n",
      "2       0.457010  0.001681    0.242888       0.212859        0.000000   \n",
      "3       0.513244  0.005711    0.213781       0.251819        0.079795   \n",
      "4       0.390319  0.009454    0.272884       0.373487        0.000000   \n",
      "5       0.553354  0.009472    0.094315       0.000000        0.000000   \n",
      "6       0.543618  0.005927    0.329241       0.086847        0.052831   \n",
      "7       0.510726  0.010724    0.113227       0.211889        0.084259   \n",
      "8       0.512960  0.017649    0.251531       0.178131        0.000000   \n",
      "9       0.565021  0.010130    0.340475       0.033007        0.000000   \n",
      "10      0.293491  0.002372    0.000000       0.430240        0.000000   \n",
      "11      0.489216  0.003478    0.171965       0.057902        0.000000   \n",
      "12      0.203493  0.000000    0.051256       0.301396        0.121345   \n",
      "13      0.446503  0.007394    0.234096       0.088884        0.000000   \n",
      "14      0.298494  0.000000    0.000000       0.431680        0.085491   \n",
      "15      0.464814  0.011423    0.059259       0.378576        0.121140   \n",
      "16      0.407628  0.006920    0.121871       0.338941        0.000000   \n",
      "17      0.000000  0.000000    1.000000       0.000000        0.000000   \n",
      "18      0.000000  0.000000    0.430444       0.540776        0.000000   \n",
      "19      0.817622  0.010568    0.064469       0.082212        0.000000   \n",
      "20      0.280019  0.003612    0.207260       0.263030        0.086222   \n",
      "21      0.798323  0.003220    0.000000       0.252941        0.000000   \n",
      "22      0.861645  0.009660    0.044505       0.079141        0.000000   \n",
      "23      1.000000  0.004601    0.000000       0.000000        0.000000   \n",
      "24      0.449317  0.004181    0.187642       0.298038        0.121690   \n",
      "25      0.000000  0.000000    0.936624       0.000000        0.062903   \n",
      "26      0.403342  0.000000    0.787923       0.000000        0.000000   \n",
      "27      0.598939  0.007697    0.400891       0.000000        0.000000   \n",
      "28      0.452301  0.004713    0.041081       0.196194        0.046066   \n",
      "29      1.000000  0.006296    0.000000       0.000000        0.000000   \n",
      "..           ...       ...         ...            ...             ...   \n",
      "257     0.361482  0.006955    0.088131       0.358726        0.042598   \n",
      "258     1.000000  0.007093    0.000000       0.000000        0.005521   \n",
      "259     0.452456  0.005978    0.196452       0.559360        0.006702   \n",
      "260     0.409599  0.015460    0.000000       0.456652        0.000000   \n",
      "261     0.547640  0.004424    0.010636       0.265274        0.012840   \n",
      "262     0.366028  0.003553    0.000000       0.644570        0.026695   \n",
      "263     0.320209  0.007289    0.109833       0.654780        0.041655   \n",
      "264     1.000000  0.023609    0.000000       0.000000        0.015890   \n",
      "265     0.118373  0.002920    0.143469       0.307656        0.005191   \n",
      "266     0.422484  0.006076    0.089361       0.518306        0.030018   \n",
      "267     0.377332  0.004700    0.108195       0.231214        0.033884   \n",
      "268     0.193853  0.000000    0.402229       0.431698        0.000000   \n",
      "269     0.630789  0.011145    0.265492       0.000000        0.009301   \n",
      "270     0.422115  0.016472    0.633677       0.000000        0.239535   \n",
      "271     0.318438  0.000000    0.518229       0.322981        0.154413   \n",
      "272     0.289365  0.000000    0.020285       0.420149        0.128256   \n",
      "273     0.456341  0.009753    0.178912       0.218593        0.012135   \n",
      "274     0.367928  0.012434    0.333332       0.140659        0.004428   \n",
      "275     0.477296  0.006705    0.227601       0.301270        0.007487   \n",
      "276     0.411395  0.004358    0.164366       0.382284        0.059789   \n",
      "277     0.398404  0.002601    0.192686       0.427197        0.043869   \n",
      "278     0.362853  0.009260    0.394847       0.214586        0.014418   \n",
      "279     0.615919  0.000000    0.173718       0.148177        0.010399   \n",
      "280     0.247933  0.010105    0.116033       0.551447        0.052126   \n",
      "281     0.556273  0.011743    0.089850       0.201500        0.008554   \n",
      "282     0.610160  0.002726    0.298345       0.000000        0.028185   \n",
      "283     0.439891  0.006005    0.000000       0.000000        0.014012   \n",
      "284     0.696616  0.006693    0.169087       0.146312        0.017217   \n",
      "285     1.000000  0.000000    0.000000       0.000000        0.005578   \n",
      "286     1.000000  0.007517    0.000000       0.026749        0.002488   \n",
      "\n",
      "     cervix_artifacts_area  os_artifacts_area  walls_artifacts_area  \\\n",
      "0                 0.016564           0.000000              0.043500   \n",
      "1                 0.007012           0.000000              0.097405   \n",
      "2                 0.000000           0.000000              0.000000   \n",
      "3                 0.000000           0.000000              0.017594   \n",
      "4                 0.000000           0.000000              0.000000   \n",
      "5                 0.000000           0.000000              0.000000   \n",
      "6                 0.097183           0.000288              0.000000   \n",
      "7                 0.162905           0.294737              0.000000   \n",
      "8                 0.000000           0.000000              0.000000   \n",
      "9                 0.000000           0.000000              0.000000   \n",
      "10                0.000000           0.000000              0.000000   \n",
      "11                0.000000           0.000000              0.000000   \n",
      "12                0.007676           0.000000              0.368241   \n",
      "13                0.000000           0.000000              0.000000   \n",
      "14                0.144720           0.000000              0.000000   \n",
      "15                0.124807           0.000709              0.038578   \n",
      "16                0.000000           0.000000              0.000000   \n",
      "17                0.000000           0.000000              0.000000   \n",
      "18                0.000000           0.000000              0.000000   \n",
      "19                0.000000           0.000000              0.000000   \n",
      "20                0.001168           0.000000              0.009594   \n",
      "21                0.000000           0.000000              0.000000   \n",
      "22                0.000000           0.000000              0.000000   \n",
      "23                0.000000           0.000000              0.000000   \n",
      "24                0.123424           0.003099              0.017406   \n",
      "25                0.000000           0.000000              0.004456   \n",
      "26                0.000000           0.000000              0.000000   \n",
      "27                0.000000           0.000000              0.000000   \n",
      "28                0.004810           0.000000              0.017336   \n",
      "29                0.000000           0.000000              0.000000   \n",
      "..                     ...                ...                   ...   \n",
      "257               0.032307           0.174582              0.339017   \n",
      "258               0.005521           0.091108              0.000000   \n",
      "259               0.014813           0.000000              0.000000   \n",
      "260               0.000000           0.000000              0.000000   \n",
      "261               0.023447           0.000000              0.000000   \n",
      "262               0.071562           0.000000              0.000000   \n",
      "263               0.057439           0.009373              0.031749   \n",
      "264               0.015890           0.000000              0.000000   \n",
      "265               0.043856           0.004962              0.000000   \n",
      "266               0.071052           0.094055              0.000000   \n",
      "267               0.089799           0.266689              0.009561   \n",
      "268               0.000000           0.000000              0.000000   \n",
      "269               0.014745           0.000000              0.000000   \n",
      "270               0.012557           0.000000              0.369644   \n",
      "271               0.058733           0.000000              0.015594   \n",
      "272               0.021967           0.000000              0.082467   \n",
      "273               0.026591           0.000000              0.000000   \n",
      "274               0.011605           0.000000              0.000629   \n",
      "275               0.015687           0.000000              0.000000   \n",
      "276               0.026156           0.000000              0.292499   \n",
      "277               0.069174           0.000000              0.069585   \n",
      "278               0.039735           0.266555              0.000000   \n",
      "279               0.015237           0.000000              0.000000   \n",
      "280               0.042930           0.067228              0.357507   \n",
      "281               0.015377           0.059170              0.000000   \n",
      "282               0.046193           0.000000              0.000000   \n",
      "283               0.031853           0.000000              0.000000   \n",
      "284               0.024715           0.078889              0.000000   \n",
      "285               0.005578           0.000000              0.000000   \n",
      "286               0.002488           0.000000              0.000000   \n",
      "\n",
      "     speculum_artifacts_area  cervix_specularities_area    ...      \\\n",
      "0                   0.010149                   0.000133    ...       \n",
      "1                   0.973837                   0.004055    ...       \n",
      "2                   0.000000                   0.001756    ...       \n",
      "3                   0.007208                   0.001288    ...       \n",
      "4                   0.000000                   0.000196    ...       \n",
      "5                   0.000000                   0.005477    ...       \n",
      "6                   0.000000                   0.003289    ...       \n",
      "7                   0.000000                   0.006444    ...       \n",
      "8                   0.000000                   0.007818    ...       \n",
      "9                   0.000000                   0.000775    ...       \n",
      "10                  0.000000                   0.000000    ...       \n",
      "11                  0.000000                   0.000181    ...       \n",
      "12                  0.005737                   0.083074    ...       \n",
      "13                  0.000000                   0.001721    ...       \n",
      "14                  0.002779                   0.009747    ...       \n",
      "15                  0.020508                   0.005888    ...       \n",
      "16                  0.000000                   0.001262    ...       \n",
      "17                  0.000000                   0.000000    ...       \n",
      "18                  0.000000                   0.000000    ...       \n",
      "19                  0.000000                   0.004021    ...       \n",
      "20                  0.010999                   0.000000    ...       \n",
      "21                  0.000000                   0.000061    ...       \n",
      "22                  0.000000                   0.000515    ...       \n",
      "23                  0.000000                   0.000000    ...       \n",
      "24                  0.032351                   0.000000    ...       \n",
      "25                  0.000000                   0.000000    ...       \n",
      "26                  0.000000                   0.003188    ...       \n",
      "27                  0.000000                   0.002806    ...       \n",
      "28                  0.001268                   0.005662    ...       \n",
      "29                  0.000000                   0.000077    ...       \n",
      "..                       ...                        ...    ...       \n",
      "257                 0.010573                   0.015654    ...       \n",
      "258                 0.000000                   0.004855    ...       \n",
      "259                 0.000000                   0.020873    ...       \n",
      "260                 0.000000                   0.032821    ...       \n",
      "261                 0.000000                   0.010949    ...       \n",
      "262                 0.001832                   0.013440    ...       \n",
      "263                 0.032489                   0.024981    ...       \n",
      "264                 0.000000                   0.008122    ...       \n",
      "265                 0.000000                   0.016888    ...       \n",
      "266                 0.000000                   0.048179    ...       \n",
      "267                 0.000000                   0.013754    ...       \n",
      "268                 0.000000                   0.002179    ...       \n",
      "269                 0.000000                   0.001979    ...       \n",
      "270                 0.000000                   0.002157    ...       \n",
      "271                 0.419740                   0.031357    ...       \n",
      "272                 0.020402                   0.014148    ...       \n",
      "273                 0.000000                   0.010044    ...       \n",
      "274                 0.000000                   0.005917    ...       \n",
      "275                 0.000000                   0.011782    ...       \n",
      "276                 0.002017                   0.004904    ...       \n",
      "277                 0.037027                   0.030843    ...       \n",
      "278                 0.000000                   0.019489    ...       \n",
      "279                 0.017332                   0.009315    ...       \n",
      "280                 0.000891                   0.013813    ...       \n",
      "281                 0.000000                   0.001365    ...       \n",
      "282                 0.000000                   0.021895    ...       \n",
      "283                 0.000000                   0.006911    ...       \n",
      "284                 0.000000                   0.014282    ...       \n",
      "285                 0.000000                   0.001968    ...       \n",
      "286                 0.000000                   0.011976    ...       \n",
      "\n",
      "     fit_ellipse_goodness  dist_to_center_cervix  dist_to_center_os  \\\n",
      "0               85.474311               0.265933           0.346294   \n",
      "1              124.794129               1.000000           0.283059   \n",
      "2               94.948697               0.518740           0.419375   \n",
      "3               74.221670               0.347202           0.361672   \n",
      "4               61.546536               0.437852           0.673196   \n",
      "5               42.338553               0.558539           0.310021   \n",
      "6               56.534053               0.292185           0.269308   \n",
      "7               73.746836               0.415107           0.337639   \n",
      "8               39.771961               0.365340           0.461574   \n",
      "9              100.080224               0.275810           0.295973   \n",
      "10              46.050750               0.361524           0.376736   \n",
      "11             113.944121               0.163825           0.224644   \n",
      "12              68.118934               1.000000           0.388044   \n",
      "13              67.466382               0.127936           0.249921   \n",
      "14             111.775709               1.000000           0.518496   \n",
      "15              89.239789               0.465796           0.507694   \n",
      "16              54.286363               0.365394           0.224894   \n",
      "17               0.000000               1.000000           1.000000   \n",
      "18               0.000000               1.000000           1.000000   \n",
      "19             224.792334               0.359714           0.491219   \n",
      "20             182.021677               0.326972           0.620120   \n",
      "21             363.091010               0.286860           0.477729   \n",
      "22             229.598171               0.351230           0.345415   \n",
      "23             356.792378               0.284576           0.402563   \n",
      "24              61.385972               0.657652           0.643575   \n",
      "25               0.000000               1.000000           1.000000   \n",
      "26             244.179648               1.000000           0.518474   \n",
      "27             107.766307               0.327324           0.662530   \n",
      "28              66.597351               0.189823           0.216428   \n",
      "29             356.792378               0.354896           0.402563   \n",
      "..                    ...                    ...                ...   \n",
      "257            209.028493               0.328893           0.391387   \n",
      "258            356.792378               0.333075           0.402563   \n",
      "259             97.631768               0.345024           0.307680   \n",
      "260             34.926110               0.460819           0.373351   \n",
      "261             46.264196               0.293060           0.416109   \n",
      "262             64.809973               0.857433           0.751533   \n",
      "263             64.401014               0.656438           0.546877   \n",
      "264            356.792378               0.483803           0.402563   \n",
      "265             66.765341               0.600506           0.585490   \n",
      "266             51.205932               0.570933           0.575781   \n",
      "267             35.819474               0.532210           0.579366   \n",
      "268             91.494936               1.000000           0.557308   \n",
      "269             48.216462               0.216117           0.263014   \n",
      "270            260.840848               0.095483           0.169237   \n",
      "271             98.579553               1.000000           0.258650   \n",
      "272             70.250911               1.000000           0.442526   \n",
      "273            154.263218               0.501840           0.376847   \n",
      "274            217.200551               0.563666           0.477285   \n",
      "275            138.911242               0.200209           0.339334   \n",
      "276            133.645992               0.511795           0.487811   \n",
      "277             70.350402               0.171198           0.407052   \n",
      "278            151.618097               0.244734           0.302749   \n",
      "279            114.731969               1.000000           0.360714   \n",
      "280            259.255528               0.459221           0.570129   \n",
      "281            128.872108               0.135539           0.269297   \n",
      "282            141.328331               0.356888           0.353911   \n",
      "283             59.687772               0.529688           0.417762   \n",
      "284            196.767870               0.453209           0.590185   \n",
      "285            356.792378               1.000000           0.402563   \n",
      "286            356.792378               0.220804           0.402563   \n",
      "\n",
      "     experts::0  experts::1  experts::2  experts::3  experts::4  experts::5  \\\n",
      "0           1.0         0.0         0.0         1.0         1.0         1.0   \n",
      "1           0.0         0.0         0.0         0.0         0.0         0.0   \n",
      "2           1.0         0.0         0.0         1.0         0.0         0.0   \n",
      "3           1.0         1.0         0.0         1.0         1.0         1.0   \n",
      "4           1.0         0.0         0.0         1.0         1.0         1.0   \n",
      "5           1.0         0.0         0.0         1.0         1.0         1.0   \n",
      "6           1.0         0.0         0.0         1.0         1.0         1.0   \n",
      "7           0.0         0.0         1.0         1.0         1.0         0.0   \n",
      "8           0.0         1.0         0.0         1.0         1.0         1.0   \n",
      "9           1.0         1.0         1.0         1.0         1.0         1.0   \n",
      "10          0.0         1.0         0.0         1.0         1.0         0.0   \n",
      "11          1.0         1.0         1.0         1.0         1.0         0.0   \n",
      "12          0.0         0.0         0.0         1.0         0.0         0.0   \n",
      "13          0.0         0.0         0.0         1.0         1.0         0.0   \n",
      "14          0.0         1.0         1.0         1.0         1.0         0.0   \n",
      "15          0.0         0.0         0.0         1.0         1.0         1.0   \n",
      "16          0.0         0.0         0.0         0.0         1.0         0.0   \n",
      "17          0.0         0.0         0.0         0.0         1.0         0.0   \n",
      "18          0.0         0.0         0.0         0.0         1.0         0.0   \n",
      "19          1.0         1.0         0.0         0.0         1.0         1.0   \n",
      "20          0.0         0.0         0.0         0.0         0.0         0.0   \n",
      "21          1.0         0.0         1.0         1.0         1.0         1.0   \n",
      "22          1.0         1.0         1.0         1.0         1.0         0.0   \n",
      "23          0.0         0.0         0.0         0.0         0.0         0.0   \n",
      "24          1.0         1.0         0.0         1.0         1.0         1.0   \n",
      "25          1.0         0.0         0.0         0.0         1.0         0.0   \n",
      "26          0.0         0.0         0.0         1.0         1.0         0.0   \n",
      "27          1.0         0.0         0.0         1.0         1.0         0.0   \n",
      "28          1.0         1.0         1.0         1.0         1.0         1.0   \n",
      "29          0.0         0.0         0.0         0.0         1.0         1.0   \n",
      "..          ...         ...         ...         ...         ...         ...   \n",
      "257         1.0         1.0         1.0         1.0         1.0         0.0   \n",
      "258         1.0         1.0         1.0         1.0         1.0         0.0   \n",
      "259         1.0         1.0         1.0         1.0         1.0         1.0   \n",
      "260         1.0         1.0         1.0         1.0         1.0         1.0   \n",
      "261         1.0         1.0         1.0         1.0         1.0         1.0   \n",
      "262         0.0         1.0         1.0         1.0         1.0         0.0   \n",
      "263         0.0         1.0         0.0         1.0         1.0         0.0   \n",
      "264         0.0         1.0         0.0         1.0         1.0         0.0   \n",
      "265         1.0         1.0         1.0         1.0         1.0         1.0   \n",
      "266         1.0         0.0         0.0         1.0         1.0         0.0   \n",
      "267         1.0         1.0         1.0         1.0         1.0         1.0   \n",
      "268         0.0         1.0         1.0         1.0         1.0         0.0   \n",
      "269         0.0         1.0         1.0         1.0         1.0         1.0   \n",
      "270         0.0         0.0         1.0         0.0         1.0         0.0   \n",
      "271         0.0         0.0         0.0         1.0         1.0         0.0   \n",
      "272         0.0         0.0         0.0         1.0         0.0         0.0   \n",
      "273         1.0         1.0         1.0         1.0         1.0         0.0   \n",
      "274         0.0         0.0         0.0         1.0         1.0         0.0   \n",
      "275         1.0         1.0         1.0         1.0         1.0         1.0   \n",
      "276         1.0         1.0         1.0         1.0         1.0         0.0   \n",
      "277         1.0         1.0         1.0         1.0         1.0         0.0   \n",
      "278         1.0         1.0         1.0         1.0         1.0         0.0   \n",
      "279         0.0         0.0         0.0         0.0         0.0         0.0   \n",
      "280         0.0         0.0         1.0         1.0         1.0         0.0   \n",
      "281         0.0         0.0         0.0         1.0         0.0         0.0   \n",
      "282         0.0         0.0         1.0         1.0         0.0         0.0   \n",
      "283         0.0         1.0         1.0         1.0         0.0         0.0   \n",
      "284         1.0         1.0         0.0         1.0         1.0         0.0   \n",
      "285         0.0         0.0         0.0         1.0         0.0         0.0   \n",
      "286         0.0         0.0         0.0         1.0         0.0         0.0   \n",
      "\n",
      "     consensus  \n",
      "0          1.0  \n",
      "1          0.0  \n",
      "2          0.0  \n",
      "3          1.0  \n",
      "4          1.0  \n",
      "5          1.0  \n",
      "6          1.0  \n",
      "7          1.0  \n",
      "8          1.0  \n",
      "9          1.0  \n",
      "10         1.0  \n",
      "11         1.0  \n",
      "12         0.0  \n",
      "13         0.0  \n",
      "14         1.0  \n",
      "15         1.0  \n",
      "16         0.0  \n",
      "17         0.0  \n",
      "18         0.0  \n",
      "19         1.0  \n",
      "20         0.0  \n",
      "21         1.0  \n",
      "22         1.0  \n",
      "23         0.0  \n",
      "24         1.0  \n",
      "25         0.0  \n",
      "26         0.0  \n",
      "27         1.0  \n",
      "28         1.0  \n",
      "29         0.0  \n",
      "..         ...  \n",
      "257        1.0  \n",
      "258        1.0  \n",
      "259        1.0  \n",
      "260        1.0  \n",
      "261        1.0  \n",
      "262        1.0  \n",
      "263        1.0  \n",
      "264        1.0  \n",
      "265        1.0  \n",
      "266        1.0  \n",
      "267        1.0  \n",
      "268        1.0  \n",
      "269        1.0  \n",
      "270        0.0  \n",
      "271        0.0  \n",
      "272        0.0  \n",
      "273        1.0  \n",
      "274        0.0  \n",
      "275        1.0  \n",
      "276        1.0  \n",
      "277        1.0  \n",
      "278        1.0  \n",
      "279        0.0  \n",
      "280        1.0  \n",
      "281        0.0  \n",
      "282        0.0  \n",
      "283        1.0  \n",
      "284        1.0  \n",
      "285        0.0  \n",
      "286        0.0  \n",
      "\n",
      "[287 rows x 69 columns]\n"
     ]
    }
   ],
   "source": [
    "data = pd.read_csv('concat.csv')\n",
    "print(data)"
   ]
  },
  {
   "cell_type": "markdown",
   "metadata": {
    "colab_type": "text",
    "id": "mAnL0KMnZUTv"
   },
   "source": [
    "2. Συνολικά το dataset αποτελείται από 287 δείγματα με 69 στοιχεία το καθένα. Τα 62 από αυτά είναι χαρακτηριστικά, τα 6 είναι οι εκτιμήσεις 6 γιατρών και το τελευταίο είναι η απόφαση της πλειοψηφίας (bad ή good). Τα χαρακτηριστικά είναι μεγέθη όπως το μέγεθος του τραχήλου και άλλων αντικειμένων στην εικόνα, στατιστικά χρωμάτων της εικόνας και αποστάσεων των αντικειμένων στην εικόνα. Όλα είναι διατεταγμένα.\n",
    "\n",
    "3. Οι επικεφαλίδες είναι στη πρώτη γραμμή. Οι γραμμές δεν είναι αριθμημένες.\n",
    "\n",
    "4. Η ετικέτα της κλάσης είναι η εκτίμηση της πλειοψηφίας των γιατρών, δηλαδή η τελευτάια στήλη.\n",
    "\n",
    "5. Η μόνη προεπεξεργασία που κάναμε ήταν να ενώσουμε τα 3 csv's και να αφαιρέσουμε τις 2 επιπλέον γραμμές με τις επικεφαλίδες (headers).\n",
    "\n",
    "6. Με `bash cat *.csv | grep \"?\" | wc -l` βλέπουμε πως δεν απουσιάζουν τιμές. "
   ]
  },
  {
   "cell_type": "code",
   "execution_count": 0,
   "metadata": {
    "colab": {},
    "colab_type": "code",
    "id": "QySrBm5UZUTz"
   },
   "outputs": [],
   "source": [
    "X = data.iloc[:,:62].values\n",
    "y = data.iloc[:,-1].values.astype('int')"
   ]
  },
  {
   "cell_type": "code",
   "execution_count": 5,
   "metadata": {
    "colab": {
     "base_uri": "https://localhost:8080/",
     "height": 35
    },
    "colab_type": "code",
    "executionInfo": {
     "elapsed": 40822,
     "status": "ok",
     "timestamp": 1544397078039,
     "user": {
      "displayName": "jason marmanis",
      "photoUrl": "https://lh3.googleusercontent.com/-C_tDDyCv7tM/AAAAAAAAAAI/AAAAAAAAAMg/uOBKlyQq9Jo/s64/photo.jpg",
      "userId": "00194887618076345353"
     },
     "user_tz": -120
    },
    "id": "sXKWDXCUZUT9",
    "outputId": "9b703eb5-3c82-4609-9f70-9d5edb763c7f"
   },
   "outputs": [
    {
     "data": {
      "text/plain": [
       "array([ 71, 216])"
      ]
     },
     "execution_count": 5,
     "metadata": {
      "tags": []
     },
     "output_type": "execute_result"
    }
   ],
   "source": [
    "np.bincount(y)"
   ]
  },
  {
   "cell_type": "markdown",
   "metadata": {
    "colab_type": "text",
    "id": "RdutkzeIZUUM"
   },
   "source": [
    "7. Υπάρχουν ακριβώς δύο κλάσεις - good και bad - που κωδικοποιούνται με 0 και 1, αντιστοιχα. Το dataset δεν είναι ισορροπημένο, τα θετικά δείγματα είναι τριπλάσια από τα αρνητικά."
   ]
  },
  {
   "cell_type": "code",
   "execution_count": 0,
   "metadata": {
    "colab": {},
    "colab_type": "code",
    "id": "_6_Xsv6YZUUP"
   },
   "outputs": [],
   "source": [
    "from sklearn.model_selection import train_test_split"
   ]
  },
  {
   "cell_type": "code",
   "execution_count": 0,
   "metadata": {
    "colab": {},
    "colab_type": "code",
    "id": "5bWRu_1JZUUZ"
   },
   "outputs": [],
   "source": [
    "X_train, X_test, y_train, y_test = train_test_split(X, y, test_size=0.20)"
   ]
  },
  {
   "cell_type": "markdown",
   "metadata": {
    "colab_type": "text",
    "id": "_rw40XAlZUUi"
   },
   "source": [
    "8. Δεν υπάρχουν απουσιάζουσες τιμές και διατεταγμένα χαρακτηριστικά."
   ]
  },
  {
   "cell_type": "markdown",
   "metadata": {
    "colab_type": "text",
    "id": "6Ft6ZsauZUUu"
   },
   "source": [
    "## Baseline classification"
   ]
  },
  {
   "cell_type": "markdown",
   "metadata": {
    "colab_type": "text",
    "id": "-1IvAx-kZUUy"
   },
   "source": [
    "### Εκπαίδευση των classifier"
   ]
  },
  {
   "cell_type": "markdown",
   "metadata": {
    "colab_type": "text",
    "id": "2f7mbgw9ZUU3"
   },
   "source": [
    "#### Initialize and Train"
   ]
  },
  {
   "cell_type": "code",
   "execution_count": 0,
   "metadata": {
    "colab": {},
    "colab_type": "code",
    "id": "hVLxmIOnZUU8"
   },
   "outputs": [],
   "source": [
    "from sklearn.dummy import DummyClassifier\n",
    "from sklearn.neighbors import KNeighborsClassifier"
   ]
  },
  {
   "cell_type": "code",
   "execution_count": 0,
   "metadata": {
    "colab": {},
    "colab_type": "code",
    "id": "KkDdAj_PZUVF"
   },
   "outputs": [],
   "source": [
    "from sklearn.metrics import confusion_matrix\n",
    "import matplotlib.pyplot as plt\n",
    "import itertools\n",
    "\n",
    "def plot_confusion_matrix(cm, classes,\n",
    "                          title='Confusion matrix',\n",
    "                          cmap=plt.cm.Blues):\n",
    "    plt.imshow(cm, interpolation='nearest', cmap=cmap)\n",
    "    plt.title(title)\n",
    "    plt.colorbar()\n",
    "    tick_marks = np.arange(len(classes))\n",
    "    plt.xticks(tick_marks, classes, rotation=45)\n",
    "    plt.yticks(tick_marks, classes)\n",
    "\n",
    "    fmt = 'd'\n",
    "    thresh = cm.max() / 2.\n",
    "    for i, j in itertools.product(range(cm.shape[0]), range(cm.shape[1])):\n",
    "        plt.text(j, i, format(cm[i, j], fmt),\n",
    "                 horizontalalignment=\"center\",\n",
    "                 color=\"white\" if cm[i, j] > thresh else \"black\")\n",
    "\n",
    "    plt.ylabel('True label')\n",
    "    plt.xlabel('Predicted label')\n",
    "    plt.tight_layout()  \n",
    "    plt.show()"
   ]
  },
  {
   "cell_type": "code",
   "execution_count": 0,
   "metadata": {
    "colab": {},
    "colab_type": "code",
    "id": "Xb01qiDRZUVa"
   },
   "outputs": [],
   "source": [
    "from sklearn.metrics import f1_score\n",
    "import time\n",
    "metrics = ['macro', 'micro']\n",
    "clfs = ['dummy', 'knn']\n",
    "before = {x : {} for x in metrics}\n",
    "after = {}\n",
    "time_fit = {x : {} for x in metrics}\n",
    "time_pred = {x : {} for x in metrics}"
   ]
  },
  {
   "cell_type": "code",
   "execution_count": 0,
   "metadata": {
    "colab": {},
    "colab_type": "code",
    "id": "sIqU3MrOGBKw"
   },
   "outputs": [],
   "source": [
    "def print_clf_stats(clf, CLF):\n",
    "  y_pred = CLF.fit(X_train, y_train).predict(X_test)\n",
    "  cm = confusion_matrix(y_test, y_pred)\n",
    "  plot_confusion_matrix(cm, ['Negative', 'Positive'])\n",
    "\n",
    "  for x in metrics:\n",
    "    before[x][clf] = 100*f1_score(y_test, y_pred, average=x)\n",
    "  print('{} classifier : f1 macro = {:.2f}%, f1 micro = {:.2f}%'.format(clf, *[before[x][clf] for x in metrics]))"
   ]
  },
  {
   "cell_type": "markdown",
   "metadata": {
    "colab_type": "text",
    "id": "mJMMdSZ4ZUVM"
   },
   "source": [
    "#### Dummy classifier"
   ]
  },
  {
   "cell_type": "code",
   "execution_count": 12,
   "metadata": {
    "colab": {
     "base_uri": "https://localhost:8080/",
     "height": 419
    },
    "colab_type": "code",
    "executionInfo": {
     "elapsed": 40513,
     "status": "ok",
     "timestamp": 1544397078091,
     "user": {
      "displayName": "jason marmanis",
      "photoUrl": "https://lh3.googleusercontent.com/-C_tDDyCv7tM/AAAAAAAAAAI/AAAAAAAAAMg/uOBKlyQq9Jo/s64/photo.jpg",
      "userId": "00194887618076345353"
     },
     "user_tz": -120
    },
    "id": "K5V2LRjLZUVP",
    "outputId": "2633a019-77cd-4662-c840-1b21c712fd18",
    "scrolled": true
   },
   "outputs": [
    {
     "data": {
      "image/png": "[encoded data removed]",
      "text/plain": [
       "<matplotlib.figure.Figure at 0x7fb417c23d68>"
      ]
     },
     "metadata": {
      "tags": []
     },
     "output_type": "display_data"
    },
    {
     "name": "stdout",
     "output_type": "stream",
     "text": [
      "dummy classifier : f1 macro = 42.83%, f1 micro = 53.45%\n"
     ]
    }
   ],
   "source": [
    "print_clf_stats('dummy', DummyClassifier())"
   ]
  },
  {
   "cell_type": "markdown",
   "metadata": {
    "colab_type": "text",
    "id": "CGt8nGzVZUVv"
   },
   "source": [
    "#### KNN classifier"
   ]
  },
  {
   "cell_type": "code",
   "execution_count": 13,
   "metadata": {
    "colab": {
     "base_uri": "https://localhost:8080/",
     "height": 419
    },
    "colab_type": "code",
    "executionInfo": {
     "elapsed": 41744,
     "status": "ok",
     "timestamp": 1544397079399,
     "user": {
      "displayName": "jason marmanis",
      "photoUrl": "https://lh3.googleusercontent.com/-C_tDDyCv7tM/AAAAAAAAAAI/AAAAAAAAAMg/uOBKlyQq9Jo/s64/photo.jpg",
      "userId": "00194887618076345353"
     },
     "user_tz": -120
    },
    "id": "MLxr6ELoZUVy",
    "outputId": "59dbfa8a-9117-41d4-c898-31008dde978a",
    "scrolled": true
   },
   "outputs": [
    {
     "data": {
      "image/png": "[encoded data removed]",
      "text/plain": [
       "<matplotlib.figure.Figure at 0x7fb417bb5080>"
      ]
     },
     "metadata": {
      "tags": []
     },
     "output_type": "display_data"
    },
    {
     "name": "stdout",
     "output_type": "stream",
     "text": [
      "knn classifier : f1 macro = 48.48%, f1 micro = 67.24%\n"
     ]
    }
   ],
   "source": [
    "print_clf_stats('knn', KNeighborsClassifier())"
   ]
  },
  {
   "cell_type": "markdown",
   "metadata": {
    "colab_type": "text",
    "id": "5H1MK9J6ZUWf"
   },
   "source": [
    "#### Bar plot"
   ]
  },
  {
   "cell_type": "code",
   "execution_count": 14,
   "metadata": {
    "colab": {
     "base_uri": "https://localhost:8080/",
     "height": 382
    },
    "colab_type": "code",
    "executionInfo": {
     "elapsed": 41714,
     "status": "ok",
     "timestamp": 1544397079402,
     "user": {
      "displayName": "jason marmanis",
      "photoUrl": "https://lh3.googleusercontent.com/-C_tDDyCv7tM/AAAAAAAAAAI/AAAAAAAAAMg/uOBKlyQq9Jo/s64/photo.jpg",
      "userId": "00194887618076345353"
     },
     "user_tz": -120
    },
    "id": "SOxe6OprZUWj",
    "outputId": "1e014c4c-6b89-42cf-dcfd-4fec9cffc7b2"
   },
   "outputs": [
    {
     "data": {
      "image/png": "[encoded data removed]",
      "text/plain": [
       "<matplotlib.figure.Figure at 0x7fb4153417f0>"
      ]
     },
     "metadata": {
      "tags": []
     },
     "output_type": "display_data"
    }
   ],
   "source": [
    "y_pos = np.arange(len(clfs))\n",
    "\n",
    "for i,sc in enumerate(metrics):\n",
    "\n",
    "  plt.subplot(1,2,1+i)\n",
    "  y_s = [before[sc][x] for x in clfs]\n",
    "  plt.bar(y_pos, y_s, align='center', alpha=0.5)\n",
    "  plt.xticks(y_pos, clfs)\n",
    "  plt.ylabel('Score')\n",
    "  plt.title('F1-{} average score'.format(sc))\n",
    "\n",
    "plt.show()"
   ]
  },
  {
   "cell_type": "markdown",
   "metadata": {
    "colab_type": "text",
    "id": "kFZXp7ZzZUW5"
   },
   "source": [
    "#### Σχολιασμός"
   ]
  },
  {
   "cell_type": "markdown",
   "metadata": {
    "colab_type": "text",
    "id": "8SFFeWwgHpj6"
   },
   "source": [
    "Παρατηρούμε ότι ο dummy classifier λόγω του μη ισορροπημένου dataset κάνει σχετικά καλές προβλέψεις και για τις 2 μετρικές που χρησιμοποιούμε. Ο kNN έχει καλύτερο recall και precision.\n",
    "Το micro average και στις 2 περιπτώσεις είναι υψηλότερο από το macro. Αυτή η διαφορά οφείλεται στο μη ισορρπομένο dataset, αφού το macro average δίνει το ίδιο βάρος στην πρόβλεψη για κάθε κλάση. Γενικά παρατηρούμε πως ο kNN δεν έχει πολύ καλή επίδοση σε αυτό το dataset."
   ]
  },
  {
   "cell_type": "markdown",
   "metadata": {
    "colab_type": "text",
    "id": "xch1x8BhZUW8"
   },
   "source": [
    "## Βελτιστοποίηση ταξινομητών"
   ]
  },
  {
   "cell_type": "markdown",
   "metadata": {
    "colab_type": "text",
    "id": "GPoSRcPRZUW_"
   },
   "source": [
    "Το dataset μας δεν έχει ούτε απουσιάζουσες τιμές ούτε κατηγορικές μεταβλητές άρα σε ότι αφορά την επεξεργασία πρέπει μόνο να επιλέξουμε και να εξάγουμε κατάλληλα χαρακτηριστικά. Συγκεκριμένα θα χρησιμοποιήσουμε έναν MinMaxScaler, έναν Variance Threshold, Random Overasampling λόγω του μη ισορροπημένου dataset και μετά PCA για την μείωση της διάστασης μιας και έχουμε 62 χαρακτηριστικά. Ο Random Oversampler θα επηρεάσει μόνο το train set."
   ]
  },
  {
   "cell_type": "markdown",
   "metadata": {
    "colab_type": "text",
    "id": "W1Xb3KYvZUXB"
   },
   "source": [
    "Variance Threshold:"
   ]
  },
  {
   "cell_type": "code",
   "execution_count": 15,
   "metadata": {
    "colab": {
     "base_uri": "https://localhost:8080/",
     "height": 35
    },
    "colab_type": "code",
    "executionInfo": {
     "elapsed": 41675,
     "status": "ok",
     "timestamp": 1544397079405,
     "user": {
      "displayName": "jason marmanis",
      "photoUrl": "https://lh3.googleusercontent.com/-C_tDDyCv7tM/AAAAAAAAAAI/AAAAAAAAAMg/uOBKlyQq9Jo/s64/photo.jpg",
      "userId": "00194887618076345353"
     },
     "user_tz": -120
    },
    "id": "HOvJS_YTZUXF",
    "outputId": "32e396f2-d4a9-4c56-dac8-b2a7f970fc9d"
   },
   "outputs": [
    {
     "data": {
      "text/plain": [
       "True"
      ]
     },
     "execution_count": 15,
     "metadata": {
      "tags": []
     },
     "output_type": "execute_result"
    }
   ],
   "source": [
    "from sklearn.feature_selection import VarianceThreshold\n",
    "vt = VarianceThreshold()\n",
    "train_reduced = vt.fit_transform(X_train)\n",
    "np.all(vt.get_support())"
   ]
  },
  {
   "cell_type": "markdown",
   "metadata": {
    "colab_type": "text",
    "id": "VZkp71XKZUXb"
   },
   "source": [
    "Παρατηρούμε πως όλες οι μεταβλητές έχουν θετική διασπορά άρα θα εφαρμόσουμε πρώτα έναν MinMaxScaler ώστε μετά να δοκιμάσουμε κάποιον VarianceThreshold transformer με θετικό κατώφλι."
   ]
  },
  {
   "cell_type": "code",
   "execution_count": 16,
   "metadata": {
    "colab": {
     "base_uri": "https://localhost:8080/",
     "height": 365
    },
    "colab_type": "code",
    "executionInfo": {
     "elapsed": 41639,
     "status": "ok",
     "timestamp": 1544397079411,
     "user": {
      "displayName": "jason marmanis",
      "photoUrl": "https://lh3.googleusercontent.com/-C_tDDyCv7tM/AAAAAAAAAAI/AAAAAAAAAMg/uOBKlyQq9Jo/s64/photo.jpg",
      "userId": "00194887618076345353"
     },
     "user_tz": -120
    },
    "id": "_33Y691yZUXh",
    "outputId": "3e0dff28-97bd-414b-c198-0dd0c81f0f0c"
   },
   "outputs": [
    {
     "name": "stdout",
     "output_type": "stream",
     "text": [
      "Variance from 0.00699 to 0.08758\n"
     ]
    },
    {
     "data": {
      "image/png": "[encoded data removed]",
      "text/plain": [
       "<matplotlib.figure.Figure at 0x7fb41526c470>"
      ]
     },
     "metadata": {
      "tags": []
     },
     "output_type": "display_data"
    }
   ],
   "source": [
    "from sklearn.preprocessing import MinMaxScaler, StandardScaler\n",
    "mm_scaler = MinMaxScaler()\n",
    "X_train_scaled = mm_scaler.fit_transform(X_train)\n",
    "scaled_var = X_train_scaled.var(axis=0)\n",
    "print('Variance from {:.5f} to {:.5f}'.format(scaled_var.min()\n",
    "                                             , scaled_var.max()))\n",
    "plt.plot(scaled_var)\n",
    "plt.show()"
   ]
  },
  {
   "cell_type": "markdown",
   "metadata": {
    "colab_type": "text",
    "id": "QrmUseSUZUXt"
   },
   "source": [
    "Από το παραπάνω γράφημα πράγματι φαίνεται πως μερικά χαρακτηριστικά έχουν αρκετά μικρή διασπορά σε σχέση με την μέγιστη και αφού έχουμε πολλά χαρακτηριστικά καταλήγουμε πως θα προσθέσουμε τον Variance Threshold (μαζί με τον MixMaxScaler φυσικά) στο pipeline μας.\n",
    "Μία υπερπαράμετρος που πρέπει να προσδιορίσουμε είναι το κατώφλι για τον Variance Threshold transformer.\n"
   ]
  },
  {
   "cell_type": "markdown",
   "metadata": {
    "colab_type": "text",
    "id": "Owfv7KNAZUXv"
   },
   "source": [
    "Σε ότι αφορά το PCA μοναδική υπερπαράμετρος είναι ο αριθμός των συνιστωσών."
   ]
  },
  {
   "cell_type": "code",
   "execution_count": 0,
   "metadata": {
    "colab": {},
    "colab_type": "code",
    "id": "XMTHA6Q1ZUXy"
   },
   "outputs": [],
   "source": [
    "from sklearn.decomposition import PCA"
   ]
  },
  {
   "cell_type": "markdown",
   "metadata": {
    "colab_type": "text",
    "id": "7-BgNXJpZUX-"
   },
   "source": [
    "Αρχικά θα υλοποιήσουμε το pipeline με τους transformers και τους classifiers."
   ]
  },
  {
   "cell_type": "code",
   "execution_count": 0,
   "metadata": {
    "colab": {},
    "colab_type": "code",
    "id": "Tz3Kw1OoZUYB"
   },
   "outputs": [],
   "source": [
    "from sklearn.base import BaseEstimator, ClassifierMixin\n",
    "\n",
    "class Pipeline(BaseEstimator, ClassifierMixin): \n",
    "    \"\"\"Our pipeline implementation\"\"\"\n",
    "    \n",
    "    def __init__(self, clfs):\n",
    "        \n",
    "        self.clfs = clfs\n",
    "        \n",
    "    def fit(self, X, y):\n",
    "        \n",
    "        for clf in self.clfs[:-1]:\n",
    "            if 'fit_transform' in dir(clf):\n",
    "                X = clf.fit_transform(X)\n",
    "            else: # RandomOverSampler\n",
    "                X, y = clf.fit_sample(X, y)             \n",
    "                \n",
    "        self.clfs[-1].fit(X, y)\n",
    "        \n",
    "        return self\n",
    "            \n",
    "    def predict(self, X):\n",
    "        for trans in self.clfs[:-1]:\n",
    "            if 'transform' in dir(trans): \n",
    "                X = trans.transform(X)\n",
    "            #else:  if ROS do nothing\n",
    "        return self.clfs[-1].predict(X)\n",
    "    \n",
    "    def score(self, X, y):\n",
    "        return(np.average(self.predict(X) == y))\n",
    "        "
   ]
  },
  {
   "cell_type": "markdown",
   "metadata": {
    "colab_type": "text",
    "id": "UfFbNpjlZUYQ"
   },
   "source": [
    "Ελέγχουμε ότι όντως λειτουτγεί το pipeline μας:"
   ]
  },
  {
   "cell_type": "code",
   "execution_count": 0,
   "metadata": {
    "colab": {},
    "colab_type": "code",
    "id": "YSc0IbOgZUYW"
   },
   "outputs": [],
   "source": [
    "from imblearn.over_sampling import RandomOverSampler"
   ]
  },
  {
   "cell_type": "code",
   "execution_count": 21,
   "metadata": {
    "colab": {
     "base_uri": "https://localhost:8080/",
     "height": 35
    },
    "colab_type": "code",
    "executionInfo": {
     "elapsed": 53024,
     "status": "ok",
     "timestamp": 1544397091011,
     "user": {
      "displayName": "jason marmanis",
      "photoUrl": "https://lh3.googleusercontent.com/-C_tDDyCv7tM/AAAAAAAAAAI/AAAAAAAAAMg/uOBKlyQq9Jo/s64/photo.jpg",
      "userId": "00194887618076345353"
     },
     "user_tz": -120
    },
    "id": "oiVCKpx4ZUYm",
    "outputId": "ed93524c-c8a7-4118-c953-15af646c9799",
    "scrolled": true
   },
   "outputs": [
    {
     "data": {
      "text/plain": [
       "0.6896551724137931"
      ]
     },
     "execution_count": 21,
     "metadata": {
      "tags": []
     },
     "output_type": "execute_result"
    }
   ],
   "source": [
    "Pipeline([MinMaxScaler(), VarianceThreshold(), RandomOverSampler(), \n",
    "          PCA(), KNeighborsClassifier()]).fit(X_train, y_train).score(X_test, y_test)"
   ]
  },
  {
   "cell_type": "markdown",
   "metadata": {
    "colab_type": "text",
    "id": "aEZZ_yKUZUY5"
   },
   "source": [
    "Τώρα μένει να υλοποιήσουμε το grid search.\n",
    "Θα δοκιμάσουμε 4 μοντέλα : \n",
    "- MinMaxScaler -> Variance Threshold -> RandomOverSampler -> PCA -> kNN\n",
    "- MinMaxScaler -> Variance Threshold -> PCA -> kNN\n",
    "- StandardScaler -> RandomOverSampler -> PCA -> kNN\n",
    "- StandardScaler -> PCA -> kNN\n",
    "\n",
    "Η υπερπαράμετρος του variance threshold θα μπορεί να πάρει και αρκετά μικρή τιμή που ισοδυναμεί με το να μην συμπεριλαμβάνεται ο transformer στο pipeline αφού δεν θα αλλάζει τίποτα.\n",
    "Προφανώς για τον dummy classifier δεν έχουν κάποιο hyperparameter tuning να κάνουμε αφού μόνο ο ROS θα μπορούσε να αλλάξει κάτι στο αποτέλεσμα του.\n",
    "\n",
    "Επίσης σημειώνουμε πως το να συμπεριλάβουμε τον ROS στο pipeline οδηγεί στο να κάνουμε ίσως πιο πολλές σωστές προβλέψεις για την κλάση με τα λιγότερα δείγματα, αυξάνοντας έτσι το f1_macro score που δίνει το ίδιο βάρος στις δύο κλάσεις. Είναι πιθανό έτσι να έχουμε μικρότερο f1_micro score, για αυτό περιλαμβάνουμε και μοντέλα που δεν έχουν τον ROS."
   ]
  },
  {
   "cell_type": "code",
   "execution_count": 0,
   "metadata": {
    "colab": {},
    "colab_type": "code",
    "id": "ixs0tvIdZUY_"
   },
   "outputs": [],
   "source": [
    "from sklearn.model_selection import cross_val_score\n",
    "import warnings \n",
    "warnings.filterwarnings('ignore')\n",
    "import itertools\n",
    "afters = [{} for _ in range(4)]\n",
    "time_pred = {x : {} for x in metrics}\n",
    "time_fit = {x : {} for x in metrics}\n",
    "import pprint"
   ]
  },
  {
   "cell_type": "code",
   "execution_count": 23,
   "metadata": {
    "colab": {
     "base_uri": "https://localhost:8080/",
     "height": 89
    },
    "colab_type": "code",
    "executionInfo": {
     "elapsed": 444019,
     "status": "ok",
     "timestamp": 1544397482074,
     "user": {
      "displayName": "jason marmanis",
      "photoUrl": "https://lh3.googleusercontent.com/-C_tDDyCv7tM/AAAAAAAAAAI/AAAAAAAAAMg/uOBKlyQq9Jo/s64/photo.jpg",
      "userId": "00194887618076345353"
     },
     "user_tz": -120
    },
    "id": "_mc1v-OjZUZL",
    "outputId": "7d2de491-64fa-47e5-83ac-042ce08a2a97"
   },
   "outputs": [
    {
     "name": "stdout",
     "output_type": "stream",
     "text": [
      "Architecture 1 : MinMax -> VT -> ROS -> PCA -> kNN\n",
      "Parameters : V_threshold, PCA_components, kNN_neibs\n",
      "Best macro params:  -> 0.0100, 10, 19, score = 67.06%\n",
      "Best micro params:  -> 0.0125, 16, 27, score = 78.22%\n"
     ]
    }
   ],
   "source": [
    "vars_ = np.linspace(0.005, 0.020, 7)\n",
    "comps = list(range(1,20,1))\n",
    "neibs = list(range(3,31,2))\n",
    "grid = list(itertools.product(*[vars_, comps, neibs]))\n",
    "i = 0\n",
    "\n",
    "scores = [\n",
    "                [cross_val_score(Pipeline([\n",
    "                    MinMaxScaler(), VarianceThreshold(threshold=t), RandomOverSampler(), PCA(n_components=n),\n",
    "                    KNeighborsClassifier(n_neighbors=k)]),\n",
    "                X_train, y_train, cv=10, scoring='f1_'+scoring).mean()\n",
    "                for t,n,k in  grid\n",
    "               ] for scoring in metrics]\n",
    "\n",
    "print(\"Architecture {} : MinMax -> VT -> ROS -> PCA -> kNN\".format(i+1))\n",
    "print(\"Parameters : V_threshold, PCA_components, kNN_neibs\")\n",
    "\n",
    "for j, x in enumerate(metrics):\n",
    "  afters[i][x] = grid[np.argmax(scores[j])], 100*np.max(scores[j])\n",
    "  print(\"Best {} params:  -> {:.4f}, {}, {}, score = {:.2f}%\".\n",
    "      format(x, *afters[i][x][0], afters[i][x][1]))\n"
   ]
  },
  {
   "cell_type": "code",
   "execution_count": 24,
   "metadata": {
    "colab": {
     "base_uri": "https://localhost:8080/",
     "height": 89
    },
    "colab_type": "code",
    "executionInfo": {
     "elapsed": 776485,
     "status": "ok",
     "timestamp": 1544397814581,
     "user": {
      "displayName": "jason marmanis",
      "photoUrl": "https://lh3.googleusercontent.com/-C_tDDyCv7tM/AAAAAAAAAAI/AAAAAAAAAMg/uOBKlyQq9Jo/s64/photo.jpg",
      "userId": "00194887618076345353"
     },
     "user_tz": -120
    },
    "id": "r68oZmiYZUZU",
    "outputId": "be5b7375-85e0-4524-bcc5-1e214149986c",
    "scrolled": true
   },
   "outputs": [
    {
     "name": "stdout",
     "output_type": "stream",
     "text": [
      "Architecture 2 : MinMax -> VT -> PCA -> kNN\n",
      "Parameters : V_threshold, PCA_components, kNN_neibs\n",
      "Best macro params:  -> 0.0050, 6, 7, score = 64.05%\n",
      "Best micro params:  -> 0.0050, 17, 7, score = 80.31%\n"
     ]
    }
   ],
   "source": [
    "vars_ = np.linspace(0.005, 0.020, 7)\n",
    "comps = list(range(1,20,1))\n",
    "neibs = list(range(3,31,2))\n",
    "grid = list(itertools.product(*[vars_, comps, neibs]))\n",
    "i = 1\n",
    "\n",
    "scores = [\n",
    "          [cross_val_score(Pipeline([\n",
    "              MinMaxScaler(), VarianceThreshold(threshold=t), PCA(n_components=n),\n",
    "              KNeighborsClassifier(n_neighbors=k)]),\n",
    "          X_train, y_train, cv=10, scoring='f1_'+scoring).mean()\n",
    "          for t,n,k in  grid\n",
    "         ] for scoring in metrics]\n",
    "\n",
    "print(\"Architecture {} : MinMax -> VT -> PCA -> kNN\".format(i+1))\n",
    "print(\"Parameters : V_threshold, PCA_components, kNN_neibs\")\n",
    "\n",
    "for j, x in enumerate(metrics):\n",
    "  afters[i][x] = grid[np.argmax(scores[j])], 100*np.max(scores[j])\n",
    "  print(\"Best {} params:  -> {:.4f}, {}, {}, score = {:.2f}%\".\n",
    "      format(x, *afters[i][x][0], afters[i][x][1]))"
   ]
  },
  {
   "cell_type": "code",
   "execution_count": 25,
   "metadata": {
    "colab": {
     "base_uri": "https://localhost:8080/",
     "height": 89
    },
    "colab_type": "code",
    "executionInfo": {
     "elapsed": 832043,
     "status": "ok",
     "timestamp": 1544397870178,
     "user": {
      "displayName": "jason marmanis",
      "photoUrl": "https://lh3.googleusercontent.com/-C_tDDyCv7tM/AAAAAAAAAAI/AAAAAAAAAMg/uOBKlyQq9Jo/s64/photo.jpg",
      "userId": "00194887618076345353"
     },
     "user_tz": -120
    },
    "id": "niNysGrgZUZh",
    "outputId": "6e99d44b-941f-4715-f7ab-b93f557d9a5a"
   },
   "outputs": [
    {
     "name": "stdout",
     "output_type": "stream",
     "text": [
      "Architecture 3 : StdScaler -> ROS -> PCA -> kNN\n",
      "Parameters : PCA_components, kNN_neibs\n",
      "Best macro params:  -> 7, 23, score = 67.65%\n",
      "Best micro params:  -> 9, 29, score = 78.04%\n"
     ]
    }
   ],
   "source": [
    "comps = list(range(1,20,1))\n",
    "neibs = list(range(3,31,2))\n",
    "grid = list(itertools.product(*[ comps, neibs]))\n",
    "i = 2\n",
    "\n",
    "scores = [\n",
    "          [cross_val_score(Pipeline([\n",
    "              StandardScaler(), RandomOverSampler(), PCA(n_components=n),\n",
    "              KNeighborsClassifier(n_neighbors=k)]),\n",
    "          X_train, y_train, cv=10, scoring='f1_'+scoring).mean()\n",
    "          for n,k in  grid\n",
    "         ] for scoring in metrics]\n",
    "\n",
    "print(\"Architecture {} : StdScaler -> ROS -> PCA -> kNN\".format(i+1))\n",
    "print(\"Parameters : PCA_components, kNN_neibs\")\n",
    "\n",
    "for j, x in enumerate(metrics):\n",
    "  afters[i][x] = grid[np.argmax(scores[j])], 100*np.max(scores[j])\n",
    "  print(\"Best {} params:  -> {}, {}, score = {:.2f}%\".\n",
    "      format(x, *afters[i][x][0], afters[i][x][1]))"
   ]
  },
  {
   "cell_type": "code",
   "execution_count": 26,
   "metadata": {
    "colab": {
     "base_uri": "https://localhost:8080/",
     "height": 89
    },
    "colab_type": "code",
    "executionInfo": {
     "elapsed": 880496,
     "status": "ok",
     "timestamp": 1544397918688,
     "user": {
      "displayName": "jason marmanis",
      "photoUrl": "https://lh3.googleusercontent.com/-C_tDDyCv7tM/AAAAAAAAAAI/AAAAAAAAAMg/uOBKlyQq9Jo/s64/photo.jpg",
      "userId": "00194887618076345353"
     },
     "user_tz": -120
    },
    "id": "VRV2ymsZZUZo",
    "outputId": "96279e38-f6df-4c18-9745-2f8f4e4d5888"
   },
   "outputs": [
    {
     "name": "stdout",
     "output_type": "stream",
     "text": [
      "Architecture 4 : StdScaler -> PCA -> kNN\n",
      "Parameters : PCA_components, kNN_neibs\n",
      "Best macro params:  -> 15, 7, score = 64.05%\n",
      "Best micro params:  -> 5, 13, score = 80.72%\n"
     ]
    }
   ],
   "source": [
    "comps = list(range(1,20,1))\n",
    "neibs = list(range(3,31,2))\n",
    "grid = list(itertools.product(*[ comps, neibs]))\n",
    "i = 3\n",
    "\n",
    "scores = [\n",
    "          [cross_val_score(Pipeline([\n",
    "              StandardScaler(), PCA(n_components=n),\n",
    "              KNeighborsClassifier(n_neighbors=k)]),\n",
    "          X_train, y_train, cv=10, scoring='f1_'+scoring).mean()\n",
    "          for n,k in  grid\n",
    "         ] for scoring in metrics]\n",
    "\n",
    "print(\"Architecture {} : StdScaler -> PCA -> kNN\".format(i+1))\n",
    "print(\"Parameters : PCA_components, kNN_neibs\")\n",
    "\n",
    "for j, x in enumerate(metrics):\n",
    "  afters[i][x] = grid[np.argmax(scores[j])], 100*np.max(scores[j])\n",
    "  print(\"Best {} params:  -> {}, {}, score = {:.2f}%\".\n",
    "      format(x, *afters[i][x][0], afters[i][x][1]))"
   ]
  },
  {
   "cell_type": "code",
   "execution_count": 27,
   "metadata": {
    "colab": {
     "base_uri": "https://localhost:8080/",
     "height": 89
    },
    "colab_type": "code",
    "executionInfo": {
     "elapsed": 880449,
     "status": "ok",
     "timestamp": 1544397918694,
     "user": {
      "displayName": "jason marmanis",
      "photoUrl": "https://lh3.googleusercontent.com/-C_tDDyCv7tM/AAAAAAAAAAI/AAAAAAAAAMg/uOBKlyQq9Jo/s64/photo.jpg",
      "userId": "00194887618076345353"
     },
     "user_tz": -120
    },
    "id": "dCvE75W6Ua6R",
    "outputId": "eed7d26e-17ef-42d6-e1ec-27f4f83af4e9"
   },
   "outputs": [
    {
     "name": "stdout",
     "output_type": "stream",
     "text": [
      "Με βάση το f1_macro score, καλύτερη αρχιτεκτονική είναι η 3 με παραμέτρους:\n",
      "(7, 23)\n",
      "Με βάση το f1_micro score, καλύτερη αρχιτεκτονική είναι η 4 με παραμέτρους:\n",
      "(5, 13)\n"
     ]
    }
   ],
   "source": [
    "for y in metrics:\n",
    "  best = np.argmax([afters[x][y][1] for x in range(4)])\n",
    "  print(\"Με βάση το f1_{} score, καλύτερη αρχιτεκτονική είναι η {} με παραμέτρους:\".format(y,best+1))\n",
    "  after[y] = afters[best][y]\n",
    "  pprint.pprint(after[y][0])"
   ]
  },
  {
   "cell_type": "markdown",
   "metadata": {
    "colab_type": "text",
    "id": "iXX_KlM0s9PV"
   },
   "source": [
    "#### Παρακάτω παραθέτουμε Confusion Matrix για τα δύο μοντέλα που προέκυψαν για τον kNN:"
   ]
  },
  {
   "cell_type": "code",
   "execution_count": 43,
   "metadata": {
    "colab": {
     "base_uri": "https://localhost:8080/",
     "height": 893
    },
    "colab_type": "code",
    "executionInfo": {
     "elapsed": 1940,
     "status": "ok",
     "timestamp": 1544398689289,
     "user": {
      "displayName": "jason marmanis",
      "photoUrl": "https://lh3.googleusercontent.com/-C_tDDyCv7tM/AAAAAAAAAAI/AAAAAAAAAMg/uOBKlyQq9Jo/s64/photo.jpg",
      "userId": "00194887618076345353"
     },
     "user_tz": -120
    },
    "id": "HPIgebY6u6kU",
    "outputId": "1a59f084-5b7a-4aaf-e4ec-03ddd5edd0af"
   },
   "outputs": [
    {
     "name": "stdout",
     "output_type": "stream",
     "text": [
      "Confusion Matrix (Best f1_macro model):\n"
     ]
    },
    {
     "data": {
      "image/png": "[encoded data removed]",
      "text/plain": [
       "<matplotlib.figure.Figure at 0x7fb4118c17b8>"
      ]
     },
     "metadata": {
      "tags": []
     },
     "output_type": "display_data"
    },
    {
     "name": "stdout",
     "output_type": "stream",
     "text": [
      "f1_macro score on test set: 52.53\n",
      "\n",
      "Confusion Matrix (Best f1_micro model):\n"
     ]
    },
    {
     "data": {
      "image/png": "[encoded data removed]",
      "text/plain": [
       "<matplotlib.figure.Figure at 0x7fb4153145f8>"
      ]
     },
     "metadata": {
      "tags": []
     },
     "output_type": "display_data"
    },
    {
     "name": "stdout",
     "output_type": "stream",
     "text": [
      "f1_micro score on test set: 74.14\n",
      "\n"
     ]
    }
   ],
   "source": [
    "for x in metrics:\n",
    "  if x == 'macro':\n",
    "    pipe = Pipeline([StandardScaler(), RandomOverSampler(), PCA(n_components=7), KNeighborsClassifier(n_neighbors=23)])\n",
    "  else:\n",
    "    pipe = Pipeline([StandardScaler(), PCA(n_components=5), KNeighborsClassifier(n_neighbors=13)])\n",
    "  \n",
    "  start_time = time.time()\n",
    "  pipe.fit(X_train, y_train)\n",
    "  time_fit[x]['knn'] = time.time() - start_time\n",
    "  \n",
    "  start_time = time.time()\n",
    "  y_pred = pipe.predict(X_test)\n",
    "  time_pred[x]['knn'] = time.time() - start_time\n",
    "  \n",
    "  cm = confusion_matrix(y_test, y_pred)\n",
    "  print(\"Confusion Matrix (Best f1_{} model):\".format(x)) \n",
    "  plot_confusion_matrix(cm, ['Negative', 'Positive'])\n",
    "  \n",
    "  test_score = 100*f1_score(y_test, y_pred, average=x)\n",
    "  print(\"f1_{} score on test set: {:.2f}\\n\".format(x, test_score))\n",
    "  \n",
    "  after[x]= after[x][0], test_score"
   ]
  },
  {
   "cell_type": "markdown",
   "metadata": {},
   "source": [
    "Παρατηρούμε πως το μοντέλο που επιλέξαμε βάσει του macro score έχει περισσότερα True Negatives από το άλλο μοντέλο. Έχει όμως μικρότερο recall score λόγω αυτού. Σε γενικές γραμμές δηλαδή βλέπουμε πως το μοντέλο μας αδυνατεί να ξεχωρίσει τα negatives, και προβλέπει λίγες φορές αυτή την κλάση."
   ]
  },
  {
   "cell_type": "markdown",
   "metadata": {
    "colab_type": "text",
    "id": "iXNNtJQ7x4iA"
   },
   "source": [
    "#### Χρόνοι εκτέλεσης για τον kNN"
   ]
  },
  {
   "cell_type": "code",
   "execution_count": 44,
   "metadata": {
    "colab": {
     "base_uri": "https://localhost:8080/",
     "height": 107
    },
    "colab_type": "code",
    "executionInfo": {
     "elapsed": 1886,
     "status": "ok",
     "timestamp": 1544398689301,
     "user": {
      "displayName": "jason marmanis",
      "photoUrl": "https://lh3.googleusercontent.com/-C_tDDyCv7tM/AAAAAAAAAAI/AAAAAAAAAMg/uOBKlyQq9Jo/s64/photo.jpg",
      "userId": "00194887618076345353"
     },
     "user_tz": -120
    },
    "id": "n8SM-C-Zx4Ix",
    "outputId": "1af193e1-3ace-4767-a2ff-261b54749ef5"
   },
   "outputs": [
    {
     "name": "stdout",
     "output_type": "stream",
     "text": [
      "Time elapsed\n",
      "Fit, macro : 0.02223s\n",
      "Predict, macro : 0.00202s\n",
      "Fit, micro : 0.00596s\n",
      "Predict, micro : 0.00131s\n"
     ]
    }
   ],
   "source": [
    "print('Time elapsed')\n",
    "for x in metrics:\n",
    "  print('Fit, {} : {:.5f}s'.format(x, time_fit[x]['knn']))\n",
    "  print('Predict, {} : {:.5f}s'.format(x, time_pred[x]['knn']))"
   ]
  },
  {
   "cell_type": "markdown",
   "metadata": {},
   "source": [
    "Όπως περιμέναμε ο χρόνος εκπαίδευσης είναι μεγαλύτερος από τον χρόνο πρόβλεψης κατά 1-2 τάξεις μεγέθους. Οι μεγαλύτεροι χρόνοι στο μοντέλο που επιλέχτηκε βάσει του f1_macro score είναι μεγαλύτεροι λόγω του oversampler που προσθέτει παραπάνω δείγματα."
   ]
  },
  {
   "cell_type": "markdown",
   "metadata": {
    "colab_type": "text",
    "id": "uSGZrmXZzRDl"
   },
   "source": [
    "#### Bar Plot σύγκρισης"
   ]
  },
  {
   "cell_type": "code",
   "execution_count": 45,
   "metadata": {
    "colab": {
     "base_uri": "https://localhost:8080/",
     "height": 362
    },
    "colab_type": "code",
    "executionInfo": {
     "elapsed": 2741,
     "status": "ok",
     "timestamp": 1544398690215,
     "user": {
      "displayName": "jason marmanis",
      "photoUrl": "https://lh3.googleusercontent.com/-C_tDDyCv7tM/AAAAAAAAAAI/AAAAAAAAAMg/uOBKlyQq9Jo/s64/photo.jpg",
      "userId": "00194887618076345353"
     },
     "user_tz": -120
    },
    "id": "v9gpuedDyZiO",
    "outputId": "a1447a18-f46a-4e3a-83c4-f2d2c872489e"
   },
   "outputs": [
    {
     "data": {
      "image/png": "[encoded data removed]",
      "text/plain": [
       "<matplotlib.figure.Figure at 0x7fb410e5e4a8>"
      ]
     },
     "metadata": {
      "tags": []
     },
     "output_type": "display_data"
    }
   ],
   "source": [
    "y_pos = np.arange(len(clfs))\n",
    "for i,x in enumerate(metrics):\n",
    "  plt.subplot(1,2,1+i)\n",
    "  plt.bar(y_pos, [before[x]['dummy'], after[x][1]], align='center', alpha=0.5)\n",
    "  plt.xticks(y_pos, clfs)\n",
    "  plt.ylabel('Score')\n",
    "  plt.title('F1-{} average score'.format(x))\n",
    "  \n",
    "plt.show()"
   ]
  },
  {
   "cell_type": "markdown",
   "metadata": {},
   "source": [
    "Παρατηρούμε πως η επίδοση του kNN είναι καλύτερη από την τετριμμένη, όχι όμως σε αρκετά ικανοποιητικό επίπεδο."
   ]
  },
  {
   "cell_type": "markdown",
   "metadata": {
    "colab_type": "text",
    "id": "iPQ3pv7u0pF7"
   },
   "source": [
    "#### Μεταβολή επίδοσης"
   ]
  },
  {
   "cell_type": "code",
   "execution_count": 46,
   "metadata": {
    "colab": {
     "base_uri": "https://localhost:8080/",
     "height": 71
    },
    "colab_type": "code",
    "executionInfo": {
     "elapsed": 2695,
     "status": "ok",
     "timestamp": 1544398690228,
     "user": {
      "displayName": "jason marmanis",
      "photoUrl": "https://lh3.googleusercontent.com/-C_tDDyCv7tM/AAAAAAAAAAI/AAAAAAAAAMg/uOBKlyQq9Jo/s64/photo.jpg",
      "userId": "00194887618076345353"
     },
     "user_tz": -120
    },
    "id": "lJZ69I-I0-r4",
    "outputId": "7ee1967f-a3f0-4663-9e24-16980a8cbf4b",
    "scrolled": true
   },
   "outputs": [
    {
     "name": "stdout",
     "output_type": "stream",
     "text": [
      "kNN test score difference after tuning (%)\n",
      "macro score : 4.05%\n",
      "micro score : 6.90%\n"
     ]
    }
   ],
   "source": [
    "print(\"kNN test score difference after tuning (%)\")\n",
    "for x in metrics:\n",
    "  print(\"{} score : {:.2f}%\".format(x, after[x][1]-before[x]['knn']))"
   ]
  },
  {
   "cell_type": "markdown",
   "metadata": {},
   "source": [
    "Παρατηρούμε πως υπάρχει μία βελτίωση μετά το hyperparameter tuning. Παρ' όλα αυτά στη διαδικασία έχουμε μεγάλη τυχαιότητα λόγω του ROS και έτσι σε επόμενη εκτέλεση βγήκε χειρότερο αποτέλεσμα. Ίσως το μοντέλο μας απλά κάνει overfit και προβλέπει κυρίως Positive κλάση. Ο kNN δεν φαίνεται να είναι σωστή επιλογή για αυτό το dataset."
   ]
  }
 ],
 "metadata": {
  "colab": {
   "collapsed_sections": [
    "5H1MK9J6ZUWf",
    "kFZXp7ZzZUW5"
   ],
   "name": "B17-S11.ipynb",
   "provenance": [],
   "version": "0.3.2"
  },
  "kernelspec": {
   "display_name": "Python 3",
   "language": "python",
   "name": "python3"
  },
  "language_info": {
   "codemirror_mode": {
    "name": "ipython",
    "version": 3
   },
   "file_extension": ".py",
   "mimetype": "text/x-python",
   "name": "python",
   "nbconvert_exporter": "python",
   "pygments_lexer": "ipython3",
   "version": "3.6.6"
  },
  "varInspector": {
   "cols": {
    "lenName": 16,
    "lenType": 16,
    "lenVar": 40
   },
   "kernels_config": {
    "python": {
     "delete_cmd_postfix": "",
     "delete_cmd_prefix": "del ",
     "library": "var_list.py",
     "varRefreshCmd": "print(var_dic_list())"
    },
    "r": {
     "delete_cmd_postfix": ") ",
     "delete_cmd_prefix": "rm(",
     "library": "var_list.r",
     "varRefreshCmd": "cat(var_dic_list()) "
    }
   },
   "types_to_exclude": [
    "module",
    "function",
    "builtin_function_or_method",
    "instance",
    "_Feature"
   ],
   "window_display": false
  }
 },
 "nbformat": 4,
 "nbformat_minor": 1
}
